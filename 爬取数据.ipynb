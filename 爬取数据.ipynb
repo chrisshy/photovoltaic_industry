{
 "cells": [
  {
   "cell_type": "code",
   "execution_count": 2,
   "metadata": {},
   "outputs": [],
   "source": [
    "import requests\n",
    "import re\n",
    "from bs4 import BeautifulSoup\n",
    "from urllib import request\n",
    "from openpyxl import Workbook\n",
    "\n",
    "from selenium import webdriver\n",
    "import selenium\n",
    "\n",
    "import time\n",
    "import re\n",
    "\n",
    "import random"
   ]
  },
  {
   "cell_type": "code",
   "execution_count": 3,
   "metadata": {},
   "outputs": [],
   "source": [
    "from selenium.webdriver.common.by import By\n",
    "from selenium.webdriver.support import expected_conditions as EC  # available since 2.26.0\n",
    "from selenium.webdriver.support.ui import WebDriverWait  # available since 2.4.0"
   ]
  },
  {
   "cell_type": "code",
   "execution_count": null,
   "metadata": {},
   "outputs": [],
   "source": [
    "url = \"https://news.solarbe.com/xiangmu/\"\n",
    "chromeOptions = webdriver.ChromeOptions()\n",
    "chromeOptions.add_argument('--headless')\n",
    "chromeOptions.add_argument('--no-sandbox')\n",
    "chromeOptions.add_experimental_option('useAutomationExtension', False)\n",
    "capabilities = {'chromeOptions': {'useAutomationExtension': False, 'args': ['--disable-extensions']}}\n",
    "driver = webdriver.Chrome(executable_path='C:\\Program Files (x86)\\Google\\Chrome\\Application\\chromedriver.exe',options=chromeOptions,desired_capabilities=capabilities)\n",
    "\n",
    "driver.get(url)\n",
    "#driver.find_element_by_xpath('//*[@id=\"treeDemo_2_span\"]').click()\n",
    "#driver.switch_to.default_content()\n",
    "#frame = driver.find_elements_by_tag_name('iframe')[1]\n",
    "# driver.switch_to.frame(\"DataList\")\n",
    "# time.sleep(3)\n",
    "\n",
    "\n",
    "wb = Workbook()    #创建文件对象\n",
    "ws = wb.active     #获取第一个sheet\n",
    "\n",
    "for i in range(0,17):\n",
    "\n",
    "    list_contents=driver.find_elements_by_css_selector(\"body > div.content.newslist > div.listleft.listleftself > div > a\")\n",
    "    source_contents = driver.find_elements_by_css_selector(\"span[class='source']\")\n",
    "    topic_contents = driver.find_elements_by_css_selector(\"span[class='topic']\")\n",
    "    time_contents = driver.find_elements_by_css_selector(\"span[class='timestamp']\")\n",
    "    \n",
    "    \n",
    "    for title,source,topic,timestamp in zip(list_contents,source_contents,topic_contents,time_contents):\n",
    "        title_0 = title.text\n",
    "        link_0 = title.get_attribute(\"href\")\n",
    "        source_0 = source.text\n",
    "        topic_0 = topic.text\n",
    "        time_0 = timestamp.text\n",
    "        \n",
    "        content = [title_0,link_0,source_0,topic_0,time_0]  \n",
    "        ws.append(content)\n",
    "        \n",
    "    time.sleep(5+2*random.random())\n",
    "    print(i)\n",
    "    if i<16:\n",
    "        driver.get(\"https://news.solarbe.com/xiangmu/list\"+str(i+2)+\".html\")\n",
    "    else:\n",
    "        pass\n",
    "    time.sleep(60+5*random.random())\n",
    "    #time.sleep(1)\n",
    "#switch_to_default_content()\n",
    "wb.save(\"./result/project_detail.xlsx\")"
   ]
  },
  {
   "cell_type": "code",
   "execution_count": null,
   "metadata": {},
   "outputs": [],
   "source": [
    "int(1/2)"
   ]
  },
  {
   "cell_type": "markdown",
   "metadata": {},
   "source": [
    "# 爬取“项目”的详细信息"
   ]
  },
  {
   "cell_type": "code",
   "execution_count": 4,
   "metadata": {},
   "outputs": [],
   "source": [
    "import pandas as pd\n",
    "columns=['title','link','source','topic','date']\n",
    "project_data = pd.read_csv('./result/project_detail.csv',names=columns,encoding='gbk')"
   ]
  },
  {
   "cell_type": "code",
   "execution_count": 5,
   "metadata": {
    "scrolled": true
   },
   "outputs": [],
   "source": [
    "project_link = list(project_data['link'])"
   ]
  },
  {
   "cell_type": "code",
   "execution_count": 6,
   "metadata": {},
   "outputs": [
    {
     "data": {
      "text/plain": [
       "335"
      ]
     },
     "execution_count": 6,
     "metadata": {},
     "output_type": "execute_result"
    }
   ],
   "source": [
    "len(project_link)"
   ]
  },
  {
   "cell_type": "code",
   "execution_count": 7,
   "metadata": {},
   "outputs": [
    {
     "data": {
      "text/plain": [
       "'https://news.solarbe.com/202102/24/335053.html'"
      ]
     },
     "execution_count": 7,
     "metadata": {},
     "output_type": "execute_result"
    }
   ],
   "source": [
    "project_link[25]"
   ]
  },
  {
   "cell_type": "code",
   "execution_count": 10,
   "metadata": {
    "scrolled": true
   },
   "outputs": [
    {
     "name": "stdout",
     "output_type": "stream",
     "text": [
      "无责任编辑\n",
      "50\n",
      "无责任编辑\n",
      "51\n",
      "无责任编辑\n",
      "52\n",
      "无责任编辑\n",
      "53\n",
      "无责任编辑\n",
      "54\n",
      "无责任编辑\n",
      "55\n",
      "无责任编辑\n",
      "56\n",
      "无责任编辑\n",
      "57\n",
      "无责任编辑\n",
      "58\n",
      "无责任编辑\n",
      "59\n",
      "责任编辑：大禹\n",
      "责任编辑：大禹\n",
      "60\n",
      "无责任编辑\n",
      "61\n",
      "无责任编辑\n",
      "62\n",
      "无责任编辑\n",
      "63\n",
      "责任编辑：大禹\n",
      "责任编辑：大禹\n",
      "64\n",
      "无责任编辑\n",
      "65\n",
      "责任编辑：大禹\n",
      "责任编辑：大禹\n",
      "66\n",
      "责任编辑：大禹\n",
      "责任编辑：大禹\n",
      "67\n",
      "无责任编辑\n",
      "68\n",
      "无责任编辑\n",
      "69\n",
      "责任编辑：大禹\n",
      "责任编辑：大禹\n",
      "70\n",
      "责任编辑：大禹\n",
      "责任编辑：大禹\n",
      "71\n",
      "无责任编辑\n",
      "72\n",
      "无责任编辑\n",
      "73\n",
      "无责任编辑\n",
      "74\n",
      "无责任编辑\n",
      "75\n",
      "无责任编辑\n",
      "76\n",
      "无责任编辑\n",
      "77\n",
      "无责任编辑\n",
      "78\n",
      "无责任编辑\n",
      "79\n",
      "责任编辑：小智\n",
      "责任编辑：小智\n",
      "80\n",
      "无责任编辑\n",
      "81\n",
      "无责任编辑\n",
      "82\n",
      "无责任编辑\n",
      "83\n",
      "无责任编辑\n",
      "84\n",
      "无责任编辑\n",
      "85\n",
      "无责任编辑\n",
      "86\n",
      "无责任编辑\n",
      "87\n",
      "无责任编辑\n",
      "88\n",
      "无责任编辑\n",
      "89\n",
      "无责任编辑\n",
      "90\n",
      "无责任编辑\n",
      "91\n",
      "无责任编辑\n",
      "92\n",
      "责任编辑：大禹\n",
      "责任编辑：大禹\n",
      "93\n",
      "责任编辑：大禹\n",
      "责任编辑：大禹\n",
      "94\n",
      "无责任编辑\n",
      "95\n",
      "无责任编辑\n",
      "96\n",
      "无责任编辑\n",
      "97\n",
      "无责任编辑\n",
      "98\n",
      "无责任编辑\n",
      "99\n"
     ]
    }
   ],
   "source": [
    "url =project_link[50]\n",
    "chromeOptions = webdriver.ChromeOptions()\n",
    "chromeOptions.add_argument('--headless')\n",
    "chromeOptions.add_argument('--no-sandbox')\n",
    "chromeOptions.add_experimental_option('useAutomationExtension', False)\n",
    "capabilities = {'chromeOptions': {'useAutomationExtension': False, 'args': ['--disable-extensions']}}\n",
    "driver = webdriver.Chrome(executable_path='C:\\Program Files (x86)\\Google\\Chrome\\Application\\chromedriver.exe',options=chromeOptions,desired_capabilities=capabilities)\n",
    "\n",
    "driver.get(url)\n",
    "#driver.find_element_by_xpath('//*[@id=\"treeDemo_2_span\"]').click()\n",
    "#driver.switch_to.default_content()\n",
    "#frame = driver.find_elements_by_tag_name('iframe')[1]\n",
    "# driver.switch_to.frame(\"DataList\")\n",
    "# time.sleep(3)\n",
    "\n",
    "\n",
    "wb = Workbook()    #创建文件对象\n",
    "ws = wb.active     #获取第一个sheet\n",
    "\n",
    "\n",
    "for i in range(50,300):\n",
    "    try:\n",
    "        \n",
    "        head_contents=driver.find_elements_by_css_selector(\"body > div.content.newslist > div.listleft.listleftself > h1\")[0].text\n",
    "        source_contents = driver.find_elements_by_css_selector(\"body > div.content.newslist > div.listleft.listleftself > div.insAndshare > div:nth-child(1)\")[0].text\n",
    "        content_contents = driver.find_elements_by_css_selector(\"body > div.content.newslist > div.listleft.listleftself > div.mainbody-body-con\")[0].text\n",
    "        try:\n",
    "            time_contents = driver.find_elements_by_css_selector(\"body > div.content.newslist > div.listleft.listleftself > div.mainbody-body-user\")[0].text\n",
    "            print(time_contents)\n",
    "        except:\n",
    "            time_contents = '无责任编辑'\n",
    "        content = [head_contents,source_contents,content_contents,time_contents]\n",
    "        print(content[3])\n",
    "        ws.append(content)\n",
    "\n",
    "        time.sleep(1+2*random.random())\n",
    "        print(i)        \n",
    "        if i < 301:\n",
    "            driver.get(project_link[i+1])\n",
    "        time.sleep(10*random.random())\n",
    "    except:\n",
    "        wb.save(\"./result/project_all_detail_50_300.xlsx\")\n",
    "        \n",
    "    #time.sleep(1)\n",
    "#switch_to_default_content()\n",
    "wb.save(\"./result/project_all_detail_50_300.xlsx\")"
   ]
  },
  {
   "cell_type": "code",
   "execution_count": null,
   "metadata": {},
   "outputs": [],
   "source": []
  }
 ],
 "metadata": {
  "kernelspec": {
   "display_name": "Python 3",
   "language": "python",
   "name": "python3"
  },
  "language_info": {
   "codemirror_mode": {
    "name": "ipython",
    "version": 3
   },
   "file_extension": ".py",
   "mimetype": "text/x-python",
   "name": "python",
   "nbconvert_exporter": "python",
   "pygments_lexer": "ipython3",
   "version": "3.6.5"
  },
  "toc": {
   "base_numbering": 1,
   "nav_menu": {},
   "number_sections": true,
   "sideBar": true,
   "skip_h1_title": false,
   "title_cell": "Table of Contents",
   "title_sidebar": "Contents",
   "toc_cell": false,
   "toc_position": {},
   "toc_section_display": true,
   "toc_window_display": false
  }
 },
 "nbformat": 4,
 "nbformat_minor": 2
}
